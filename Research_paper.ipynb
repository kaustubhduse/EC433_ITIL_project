{
  "nbformat": 4,
  "nbformat_minor": 0,
  "metadata": {
    "colab": {
      "provenance": []
    },
    "kernelspec": {
      "name": "python3",
      "display_name": "Python 3"
    },
    "language_info": {
      "name": "python"
    }
  },
  "cells": [
    {
      "cell_type": "code",
      "execution_count": 11,
      "metadata": {
        "colab": {
          "base_uri": "https://localhost:8080/"
        },
        "id": "Lu3JBC3F1LNl",
        "outputId": "e073b02f-7f63-4272-e132-f59077de6a2f"
      },
      "outputs": [
        {
          "output_type": "stream",
          "name": "stdout",
          "text": [
            "Encoder function defined.\n"
          ]
        }
      ],
      "source": [
        "# --- 1. Define Constants and Helper Function ---\n",
        "\n",
        "# Prediction constants a and b for linear prediction (Equations 1 and 2)\n",
        "# The paper's example (Figure 3b) used a=-1 and b=2 for the first linear prediction case.\n",
        "A_CONSTANT = -1\n",
        "B_CONSTANT = 2\n",
        "\n",
        "def linear_prediction(s_k_minus_2, s_k_minus_1, a, b):\n",
        "    \"\"\"\n",
        "    Calculates the predicted value s'(k) using linear prediction.\n",
        "    s'(k) = a * s(k-2) + b * s(k-1)\n",
        "    \"\"\"\n",
        "    return a * s_k_minus_2 + b * s_k_minus_1\n",
        "\n",
        "# --- 2. Encoder (Algorithm 1) ---\n",
        "\n",
        "def adaptive_dictionary_encoder(s_input_str, a=A_CONSTANT, b=B_CONSTANT):\n",
        "    \"\"\"\n",
        "    Implements the Adaptive Dictionary Predictive Coding (Algorithm 1)[cite: 135].\n",
        "    Input: a string of digitals (e.g., '2312312312').\n",
        "    Output: a list of coded error digitals {e(k)}.\n",
        "    \"\"\"\n",
        "    # Convert input string to a list of integers\n",
        "    s_input = [int(d) for d in s_input_str]\n",
        "    n = len(s_input)\n",
        "\n",
        "    # Initialize the 2D Dictionary D.\n",
        "    # The paper uses a 2D array, we use a dictionary-of-dictionaries for sparse data.\n",
        "    # D[s(k-2)][s(k-1)] = s(k)\n",
        "    dictionary_d = {}\n",
        "\n",
        "    # Initialize the coded output list {e(k)}\n",
        "    e_output = []\n",
        "\n",
        "    print(f\"--- Running Encoder (Algorithm 1) ---\")\n",
        "    print(f\"Input Signal: {s_input_str}\")\n",
        "    print(f\"Linear Prediction Coeffs: a={a}, b={b}\\n\")\n",
        "\n",
        "    for k in range(n):\n",
        "        s_k = s_input[k]\n",
        "\n",
        "        if k < 2:\n",
        "            e_k = s_k\n",
        "            e_output.append(e_k)\n",
        "            continue\n",
        "\n",
        "        s_k_minus_2 = s_input[k - 2]\n",
        "        s_k_minus_1 = s_input[k - 1]\n",
        "\n",
        "        row_key = s_k_minus_2\n",
        "        col_key = s_k_minus_1\n",
        "\n",
        "        s_prime_k = None\n",
        "\n",
        "        if row_key not in dictionary_d or col_key not in dictionary_d[row_key]:\n",
        "            s_prime_k = linear_prediction(s_k_minus_2, s_k_minus_1, a, b)\n",
        "        else:\n",
        "            s_prime_k = dictionary_d[row_key][col_key]\n",
        "\n",
        "        e_k = s_k - s_prime_k\n",
        "        e_output.append(e_k)\n",
        "\n",
        "        if row_key not in dictionary_d:\n",
        "            dictionary_d[row_key] = {}\n",
        "        dictionary_d[row_key][col_key] = s_k\n",
        "\n",
        "    return e_output\n",
        "\n",
        "print(\"Encoder function defined.\")"
      ]
    },
    {
      "cell_type": "code",
      "source": [
        "# --- 3. Decoder (Algorithm 2) ---\n",
        "\n",
        "def adaptive_dictionary_decoder(e_input, a=A_CONSTANT, b=B_CONSTANT):\n",
        "    \"\"\"\n",
        "    Implements the Predictive Decoding Algorithm (Algorithm 2)[cite: 249].\n",
        "    Input: a list of error digitals {e(k)}.\n",
        "    Output: a list of decoded output digitals {u(k)}.\n",
        "    \"\"\"\n",
        "    n = len(e_input)\n",
        "\n",
        "    # Initialize the 2D Dictionary H (same size as D)[cite: 210].\n",
        "    # H[u(k-2)][u(k-1)] = u(k)\n",
        "    dictionary_h = {}\n",
        "\n",
        "    # Initialize the decoded output list {u(k)}\n",
        "    u_output = []\n",
        "\n",
        "    print(f\"\\n--- Running Decoder (Algorithm 2) ---\")\n",
        "    print(f\"Input Error Signal: {e_input}\")\n",
        "    print(f\"Linear Prediction Coeffs: a={a}, b={b}\\n\")\n",
        "\n",
        "\n",
        "    for k in range(n):\n",
        "        e_k = e_input[k]\n",
        "\n",
        "        if k < 2:\n",
        "            u_k = e_k\n",
        "            u_output.append(u_k)\n",
        "            # print(f\"k={k+1}: e(k)={e_k}, Output u(k)={u_k} (Direct Output)\")\n",
        "            continue\n",
        "\n",
        "        u_k_minus_2 = u_output[k - 2]\n",
        "        u_k_minus_1 = u_output[k - 1]\n",
        "\n",
        "        row_key = u_k_minus_2\n",
        "        col_key = u_k_minus_1\n",
        "\n",
        "        u_prime_k = None\n",
        "\n",
        "        if row_key not in dictionary_h or col_key not in dictionary_h[row_key]:\n",
        "            u_prime_k = linear_prediction(u_k_minus_2, u_k_minus_1, a, b)\n",
        "        else:\n",
        "            u_prime_k = dictionary_h[row_key][col_key]\n",
        "\n",
        "        u_k = e_k + u_prime_k\n",
        "        u_output.append(u_k)\n",
        "\n",
        "        if row_key not in dictionary_h:\n",
        "            dictionary_h[row_key] = {}\n",
        "        dictionary_h[row_key][col_key] = u_k\n",
        "\n",
        "\n",
        "    return u_output\n",
        "\n",
        "\n",
        "# --- 4. Main Execution and Verification ---\n",
        "\n",
        "def run_verification_test():\n",
        "    \"\"\"Runs the example from the paper (Figure 3 and 5) and verifies the result.\"\"\"\n",
        "\n",
        "    original_signal_str = '2312312312'\n",
        "    original_signal_int = [int(d) for d in original_signal_str]\n",
        "\n",
        "    encoded_output = adaptive_dictionary_encoder(original_signal_str)\n",
        "\n",
        "    expected_encoded_output = [2, 3, -3, 3, 0, 0, 0, 0, 0, 0]\n",
        "\n",
        "    print(\"\\n\" + \"=\"*70)\n",
        "    print(\"ENCODING VERIFICATION\")\n",
        "    print(\"=\"*70)\n",
        "    print(f\"Original Input:      {original_signal_int}\")\n",
        "    print(f\"Encoder Output:      {encoded_output}\")\n",
        "    print(f\"Expected Output:     {expected_encoded_output}\")\n",
        "    print(f\"Encoding Match:      {'PASS' if encoded_output == expected_encoded_output else 'FAIL'}\")\n",
        "\n",
        "    decoded_output = adaptive_dictionary_decoder(encoded_output)\n",
        "\n",
        "    expected_decoded_output = original_signal_int\n",
        "\n",
        "    print(\"\\n\" + \"=\"*70)\n",
        "    print(\"DECODING VERIFICATION\")\n",
        "    print(\"=\"*70)\n",
        "    print(f\"Encoded Input:       {encoded_output}\")\n",
        "    print(f\"Decoder Output:      {decoded_output}\")\n",
        "    print(f\"Expected Output:     {expected_decoded_output}\")\n",
        "    print(f\"Decoding Match:      {'PASS' if decoded_output == expected_decoded_output else 'FAIL'}\")\n",
        "\n",
        "    is_lossless = decoded_output == original_signal_int\n",
        "    print(f\"\\nLossless Compression Check: {'PASS' if is_lossless else 'FAIL'}\")\n",
        "\n",
        "print(\"Decoder and Verification functions defined.\")"
      ],
      "metadata": {
        "colab": {
          "base_uri": "https://localhost:8080/"
        },
        "id": "wEHQowsY1X_N",
        "outputId": "3230fd9c-d559-4b8c-e98c-2653d46b0fa8"
      },
      "execution_count": 12,
      "outputs": [
        {
          "output_type": "stream",
          "name": "stdout",
          "text": [
            "Decoder and Verification functions defined.\n"
          ]
        }
      ]
    },
    {
      "cell_type": "code",
      "source": [
        "run_verification_test()"
      ],
      "metadata": {
        "colab": {
          "base_uri": "https://localhost:8080/"
        },
        "id": "aqUYfMic1gew",
        "outputId": "b40e250a-ba7f-488c-fb61-41322d154dcc"
      },
      "execution_count": 13,
      "outputs": [
        {
          "output_type": "stream",
          "name": "stdout",
          "text": [
            "--- Running Encoder (Algorithm 1) ---\n",
            "Input Signal: 2312312312\n",
            "Linear Prediction Coeffs: a=-1, b=2\n",
            "\n",
            "\n",
            "======================================================================\n",
            "ENCODING VERIFICATION\n",
            "======================================================================\n",
            "Original Input:      [2, 3, 1, 2, 3, 1, 2, 3, 1, 2]\n",
            "Encoder Output:      [2, 3, -3, 3, 0, 0, 0, 0, 0, 0]\n",
            "Expected Output:     [2, 3, -3, 3, 0, 0, 0, 0, 0, 0]\n",
            "Encoding Match:      PASS\n",
            "\n",
            "--- Running Decoder (Algorithm 2) ---\n",
            "Input Error Signal: [2, 3, -3, 3, 0, 0, 0, 0, 0, 0]\n",
            "Linear Prediction Coeffs: a=-1, b=2\n",
            "\n",
            "\n",
            "======================================================================\n",
            "DECODING VERIFICATION\n",
            "======================================================================\n",
            "Encoded Input:       [2, 3, -3, 3, 0, 0, 0, 0, 0, 0]\n",
            "Decoder Output:      [2, 3, 1, 2, 3, 1, 2, 3, 1, 2]\n",
            "Expected Output:     [2, 3, 1, 2, 3, 1, 2, 3, 1, 2]\n",
            "Decoding Match:      PASS\n",
            "\n",
            "Lossless Compression Check: PASS\n"
          ]
        }
      ]
    },
    {
      "cell_type": "code",
      "source": [
        "import matplotlib.pyplot as plt\n",
        "\n",
        "error_values = [2, 3, -3, 3, 0, 0, 0, 0, 0, 0]\n",
        "\n",
        "plt.figure(figsize=(6, 4))\n",
        "plt.hist(error_values, bins=range(min(error_values), max(error_values) + 2),\n",
        "         edgecolor='black', align='left', color='skyblue')\n",
        "\n",
        "plt.title('Error Histogram Showing Energy Concentration')\n",
        "plt.xlabel('Prediction Error e(k)')\n",
        "plt.ylabel('Frequency')\n",
        "plt.grid(True, linestyle='--', alpha=0.6)\n",
        "\n",
        "plt.tight_layout()\n",
        "plt.savefig('error_histogram.png', dpi=300, bbox_inches='tight')\n",
        "plt.show()\n",
        "\n",
        "print(\"✅ error_histogram.png saved successfully.\")"
      ],
      "metadata": {
        "colab": {
          "base_uri": "https://localhost:8080/",
          "height": 424
        },
        "id": "M3qs1LeQA0eh",
        "outputId": "eee99971-78ab-4932-a887-fb75390f0568"
      },
      "execution_count": 14,
      "outputs": [
        {
          "output_type": "display_data",
          "data": {
            "text/plain": [
              "<Figure size 600x400 with 1 Axes>"
            ],
            "image/png": "[encoded data removed]"
          },
          "metadata": {}
        },
        {
          "output_type": "stream",
          "name": "stdout",
          "text": [
            "✅ error_histogram.png saved successfully.\n"
          ]
        }
      ]
    }
  ]
}